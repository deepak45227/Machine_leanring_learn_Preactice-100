{
 "cells": [
  {
   "cell_type": "code",
   "execution_count": 1,
   "id": "d01826d4-e167-4bab-8b9e-bcc6217f6963",
   "metadata": {},
   "outputs": [],
   "source": [
    "import pandas as pd \n",
    "import requests\n",
    "from bs4 import BeautifulSoup"
   ]
  },
  {
   "cell_type": "markdown",
   "id": "de7f3bf4-04da-4fec-826f-976974c7971e",
   "metadata": {},
   "source": [
    "# using salenium (not in video)"
   ]
  },
  {
   "cell_type": "markdown",
   "id": "ef968e76-0523-4766-a438-2af458ddec2c",
   "metadata": {},
   "source": [
    " for websites that aggressively block bots or reject requests-based scraping (even with headers).\n",
    "Selenium simulates a full browser, which most sites don’t block. Let’s walk through it again from scratch:\n",
    "\n",
    "(code from chat gpt)\n"
   ]
  },
  {
   "cell_type": "code",
   "execution_count": 2,
   "id": "b988739e-517c-4670-a72d-5af6a2d89a2b",
   "metadata": {},
   "outputs": [],
   "source": [
    "# !pip install selenium webdriver-manager\n"
   ]
  },
  {
   "cell_type": "code",
   "execution_count": 3,
   "id": "89b723d9-0263-4a50-8c65-291acd5ab2bf",
   "metadata": {
    "scrolled": true
   },
   "outputs": [],
   "source": [
    "headers = {\n",
    "    \"User-Agent\": \"Mozilla/5.0 (Windows NT 10.0; Win64; x64) \"\n",
    "                  \"AppleWebKit/537.36 (KHTML, like Gecko) \"\n",
    "                  \"Chrome/80.0.3987.162 Safari/537.36\"\n",
    "}\n",
    "webpage=requests.get('https://jobs.vault.com/?page=1',headers=headers).text\n"
   ]
  },
  {
   "cell_type": "code",
   "execution_count": 10,
   "id": "54a892a5-337d-4be5-9f62-61eaeebdef13",
   "metadata": {},
   "outputs": [
    {
     "ename": "AttributeError",
     "evalue": "'str' object has no attribute 'text'",
     "output_type": "error",
     "traceback": [
      "\u001b[1;31m---------------------------------------------------------------------------\u001b[0m",
      "\u001b[1;31mAttributeError\u001b[0m                            Traceback (most recent call last)",
      "Cell \u001b[1;32mIn[10], line 1\u001b[0m\n\u001b[1;32m----> 1\u001b[0m soup\u001b[38;5;241m=\u001b[39mBeautifulSoup(\u001b[43mwebpage\u001b[49m\u001b[38;5;241;43m.\u001b[39;49m\u001b[43mtext\u001b[49m,\u001b[38;5;124m'\u001b[39m\u001b[38;5;124mlxml\u001b[39m\u001b[38;5;124m'\u001b[39m)\n",
      "\u001b[1;31mAttributeError\u001b[0m: 'str' object has no attribute 'text'"
     ]
    }
   ],
   "source": [
    "soup=BeautifulSoup(webpage.text,'lxml')"
   ]
  },
  {
   "cell_type": "code",
   "execution_count": 8,
   "id": "2cf5d131-4399-47bc-be59-5565a3414de9",
   "metadata": {},
   "outputs": [
    {
     "name": "stdout",
     "output_type": "stream",
     "text": [
      "<!DOCTYPE html>\n",
      "<html lang=\"en-US\">\n",
      " <head>\n",
      "  <title>\n",
      "   Just a moment...\n",
      "  </title>\n",
      "  <meta content=\"text/html; charset=utf-8\" http-equiv=\"Content-Type\"/>\n",
      "  <meta content=\"IE=Edge\" http-equiv=\"X-UA-Compatible\"/>\n",
      "  <meta content=\"noindex,nofollow\" name=\"robots\"/>\n",
      "  <meta content=\"width=device-width,initial-scale=1\" name=\"viewport\"/>\n",
      "  <style>\n",
      "   *{box-sizing:border-box;margin:0;padding:0}html{line-height:1.15;-webkit-text-size-adjust:100%;color:#313131;font-family:system-ui,-apple-system,BlinkMacSystemFont,Segoe UI,Roboto,Helvetica Neue,Arial,Noto Sans,sans-serif,Apple Color Emoji,Segoe UI Emoji,Segoe UI Symbol,Noto Color Emoji}body{display:flex;flex-direction:column;height:100vh;min-height:100vh}.main-content{margin:8rem auto;max-width:60rem;padding-left:1.5rem}@media (width <= 720px){.main-content{margin-top:4rem}}.h2{font-size:1.5rem;font-weight:500;line-height:2.25rem}@media (width <= 720px){.h2{font-size:1.25rem;line-height:1.5rem}}#challenge-error-text{background-image:url(data:image/svg+xml;base64,PHN2ZyB4bWxucz0iaHR0cDovL3d3dy53My5vcmcvMjAwMC9zdmciIHdpZHRoPSIzMiIgaGVpZ2h0PSIzMiIgZmlsbD0ibm9uZSI+PHBhdGggZmlsbD0iI0IyMEYwMyIgZD0iTTE2IDNhMTMgMTMgMCAxIDAgMTMgMTNBMTMuMDE1IDEzLjAxNSAwIDAgMCAxNiAzbTAgMjRhMTEgMTEgMCAxIDEgMTEtMTEgMTEuMDEgMTEuMDEgMCAwIDEtMTEgMTEiLz48cGF0aCBmaWxsPSIjQjIwRjAzIiBkPSJNMTcuMDM4IDE4LjYxNUgxNC44N0wxNC41NjMgOS41aDIuNzgzem0tMS4wODQgMS40MjdxLjY2IDAgMS4wNTcuMzg4LjQwNy4zODkuNDA3Ljk5NCAwIC41OTYtLjQwNy45ODQtLjM5Ny4zOS0xLjA1Ny4zODktLjY1IDAtMS4wNTYtLjM4OS0uMzk4LS4zODktLjM5OC0uOTg0IDAtLjU5Ny4zOTgtLjk4NS40MDYtLjM5NyAxLjA1Ni0uMzk3Ii8+PC9zdmc+);background-repeat:no-repeat;background-size:contain;padding-left:34px}@media (prefers-color-scheme:dark){body{background-color:#222;color:#d9d9d9}}\n",
      "  </style>\n",
      "  <meta content=\"360\" http-equiv=\"refresh\"/>\n",
      " </head>\n",
      " <body>\n",
      "  <div class=\"main-wrapper\" role=\"main\">\n",
      "   <div class=\"main-content\">\n",
      "    <noscript>\n",
      "     <div class=\"h2\">\n",
      "      <span id=\"challenge-error-text\">\n",
      "       Enable JavaScript and cookies to continue\n",
      "      </span>\n",
      "     </div>\n",
      "    </noscript>\n",
      "   </div>\n",
      "  </div>\n",
      "  <script>\n",
      "   (function(){window._cf_chl_opt={cvId: '3',cZone: \"jobs.vault.com\",cType: 'managed',cRay: '935bdb57cee659ca',cH: '8kkVAwpG8gCHIPCOcPs1bFQ.E1rrd4_TV08TcCXGFZk-1745563308-1.2.1.1-kEEbiPvVq3mTpImj8ACZy.xXTHrwvqTiX5oxlQ8e0XITGD.0f_ltluEi3zwwRQz4',cUPMDTk: \"\\/?page=1&__cf_chl_tk=8izadaBkbmAym_FWzQaK1IgP5ZUl_EKkTGoAPc_k.AY-1745563308-1.0.1.1-WPmVGiUwrC8fsx3VbqFNPGtXLTQ2UeISM0IB1BcA9yQ\",cFPWv: 'g',cITimeS: '1745563308',cTplC: 0,cTplV: 5,cTplB: 'cf',cK: \"unsupported_browser_beacon\",fa: \"\\/?page=1&__cf_chl_f_tk=8izadaBkbmAym_FWzQaK1IgP5ZUl_EKkTGoAPc_k.AY-1745563308-1.0.1.1-WPmVGiUwrC8fsx3VbqFNPGtXLTQ2UeISM0IB1BcA9yQ\",md: \"iLh5gyPOfceYaPtA5vdXQc3a8UbthD97ngbfuJEXong-1745563308-1.2.1.1-F2JNcMo84M2Q5xW02GCruYsInvJxV.ZJoTOxvxPYlGKkwEqGT3K6rbfBsDQXERq8wfYxgsX7Mhpxe8FZQJJ0c67mxjtm8LsdX6gHDtAJiICliwYARWSkFrwwoPLryffjWBpqVHJ1Th02zFThHG7.o2VIIJy7bZ90rtVfLocAlIyFLdpQfrft07hhCcIWykFYaWtbSH2NLJIj.dkXTY_cR5zI8RbrKl_4LvyIjWJRJzRcNMhZzzTRRjTpeXvtfS4KzrLW6D99.rldIKZfLV4KIpnBaF9t6_hfAVK_bk0kZL74gSCKRvuYerK3ECP3P07tpKDRnoyokC8WvqrvBPw3X_dyyZfZQFW_D6oRnoQlxAt9Mf0wxiw9mQvxTHc9Q9maC6OJ5MQJMhV64fQF4g9bu5KFSI7F5EIeXeFZ19YEBhDpH07SCE7xR3kZibPFhh8qGHogJNjwu4I6CtIlx6TF9jznedsiLbCPKQjIX10UGTxnanKyc6E4Qqku1_3_Ih4KIOVugoSrFJjzGMQYf1HPoBBmFbAC15dTesvSkKuOKFMQ_LN_jXvmHPQrzTzW26WyGQWjhRhHPb1eBH9dtP5fzFAPpM2G_Bj98bYYLkihJC08wPuVT4wOf98n7v6lcRTKkG9kXMj5rhUHDzH_7ZWQBGexBn_9BSWxi80A7wf1sgV35fjGMk1ppK0ZTxSIdERBH0A2raxFGG26W3RZXNsm5.W4q5qeDBhWOUReU0yH7tT2QNAxWKWcaYmOCUXRiD9lZ8y5hB9177kgCn0VeGpIEpByKvF8_0F1W5TgGX8dlUoParoeuiiQNuKk7EbfHkmIz_PN0kScK6bwo.U8SuXMXe5WO7cxUhdJjfEW0.6LU4QpRt3cbaj65Syquz3XFOUAsV4efUVwyUSvSTGLiUfb9P4Epkh2z8qQaIhlUJed.wS.Hdz3f6hz5g.Uo6uM6jjW113Dl0N0QhNuY5P5uYsfCqw65sTCq1no_M7oq2VpO17L4df2SNPiAkbTrVbmXnARU46n67Rtr8zuX8g4s9oTZfqWOz8azx3CnLK7W.5cIr0BdQlN.47IBMHD95OdnQVwNe1rFj9x9kuAvrUlWmo87Pi5_SzNMlVqE0zCcxSjB7YnhAlkVFwoMS517fHO3boF\",mdrd: \"ziXbJd9cVCe2xVtcZvI91cCinfyayaMV4hpgtuA4kqU-1745563308-1.2.1.1-JMgYv4V58cBLN4aTDkFzpV5drI_j2fLdfNVhPykL2Wu_t_.NkHEtgfT.pOIMqMKjR0MQAoE_R9dsANqhknMSTkqEF8HOQ3cs6W8KlBJSalcdGlxpJVXh6zQbwkldNs1QiNBwApO5uazTN1_sjiMUhhQzGmwdamwadIDrp6Ue28.Ap0Pk_DMiwV398FJNa3ZLHaBNrKVV17OSz8Mpkd2UpCk.XniW.qyELzDigjxBuXXN3t.GPvD_l0MF18Vdf4z2g8hR5HprvtYT2S5dKVBBAfapIAvGcVp6poJ3xJrxeSmKoCr3Rsf.e_9wrX8pI4RqXgYvFZn3ZR7wbrw9E1KEGSYtJy8S_gRTrRNUjPUk6ZnE9XMRVNdo5ZAULCg_ZA4i4iTN6mdzcJ7Jh_aJK_qFNSYDnW67ZpEdLqPedW_y96JsGGPNh16ZXERktdINvDqv6xymoiafqOqdGqE9xMsdpxSYfG70wNCKS7QSz9pZ58nAUXhC4IuFcqAL1r8GFs3_ZrFBp8izmyMp0Or7vulMarihUWzn94mLRaih8GJkDSmVWM5hekyhqIvy8lRYYFA_Sj_qitkWLKZofOyrNuTwcjZWIsbhp_Jy1qvpSfIqYl7lvfblPHvxu2K9kQA0FlZS7P1hKqab9MT2Y2H1OjGfu.nHQ83B8u5d4iT.T_8JWz.TcVh9aExlHLAvq1GQh4kSRz4up3o1pbh7dUacGZIh_Ru7w0j2FunIwCIefy5YC01hX1G1LV8hPYDZYnIPvhpYjUv4Xsf5iYiV.ZnArMLIGr8hukjJ4_vwlTgLHQmQCuudKlHyuDST9SkfElaeorZ8mh47UtQl9Qkw88vs_F2NEKrfIIfniIXf3lCX0yf5RsS0wBFMgRoAqtHE47SZN5oX10nTAfXobZ7ZPQwp0zhNHcV_Ste3NJK3QZbXo_Y48vYzF2Dgocai2f2UQy6vtOpSTJAWPYXslVO3mxvWhh0ELQOnugZYyLXuMGFIMah3DTV8zpvgVD5tKKZinFLpHqocR_bziO9iPbKTwku1iciilThxnb7xjZE0couLMG9mVVX8R43WWaMSyT.iA8KyqW2nuz43u9sEzfeWkQ4l32CimVOZIwf9LV7ywuHI1tsPSQpHO2Z9Ex8.vUPh1i5dEFfHxMR8vSim3LhJwrkHPN_.TP2rqzNy3pPqVjjAnsX6v4p2aFO2_3OIfP0FMzRW5EGGO0kFC4d3ie.hsHJ2A4gk0B70FOf_1sXujv4F0oadgCYHnS5VKUoYQ_oQD7m2OUsZu_UxgmY4Y7TLcRwHnxbDk7PrlOElGYQV9N0LuKZewCzo0nt6Qu8CItv53CdxrINr3CNsa.3uqlvYlIgPwDIo6FxbCyDU3aK1iOJo4gt3p3BxBs3x_xY.2tS_l_h.qCRBM2ORABrxo9tOBobq0AfQZbTnWM6q27kqwHys.FOT28HzdZK3cRaW2k1IIN5ssPi_0kw8p3_.B5dll7zaIAhT3OCpjBzlH_FKifTTyGpdGBPyzhQaumHT6lxdQzD6h2GNMdfrc1ArZQ8Z1uBZuoXA.AWkRo0.cg3kaDJEl9LZKQqDGeHgzICXgA.LqgLhv1_IP654PTPXVHhSQgeBtH_GILLDXptNn0MdfATgmT1CBoTVYborsZRGkZXiPW.EPqr.LaUlNMeGAHZrtD3QjELT6Q_FIPIiA6VoEp3vw8yuIE6JJGO5x6rW10VMbIF3IMm7kWlJJUvtXQh87EjQ3wMFBlnqDlo1lkhgACPUgCLtu_BlcjmpciC2sCDWWLVadlacH67VD7kV0kMHyT673xXZHjzdGuQPxvXbm4h4N5eD4utWDvzzdNn.u4uKS0.zvNH31MOOOGEr218JzMMBGp1XtzhzE5iY5nVVW2451jsBzdMyQFrK03RrCuyup8_PdBrnNngMpHFMKlTqmkxJVaGSzbRbymy1t3EX_O4LuoDbVz.F5uQTZ67XHwyeBqConpN1F3EG4eOwTQ6f6_rrtrCwTao8kKyc40yV1fYcKcqVmZx6ZXt1UTXdcTKzr6aNRR6h41E11Q58gJ_CZS_IxVuzRikZyBIOnpE.0FyWQvrgvHKNGDLYKR0OSJyZdkGhs68voYm5ih5us39HyYVcqAjEkd73Oqy3IyFTpL3xz8.23Isfa.vhyS6zY.qeUXpb8ZPJ3ChJwvIwVC33V.Y2zhxyKhFwkHtZ_gVZBdAGovHCaerkTW0eoMdhkiv5EVCdvZH9PN.4zD3cHL9nD7hAg2eBPyEkIN_VAnZCQbzNUtOWjCVzbDwHEEwSqhYTQTu.XcgCLJfLarTU9Cew1c6rhE5KQHBU2HBpAuzfmj7kUX0n4v_93lSUvRdfiktEi.50MSLdRtySwhEA9vfUUJFx3gZ2Rg\"};var cpo = document.createElement('script');cpo.src = '/cdn-cgi/challenge-platform/h/g/orchestrate/chl_page/v1?ray=935bdb57cee659ca';window._cf_chl_opt.cOgUHash = location.hash === '' && location.href.indexOf('#') !== -1 ? '#' : location.hash;window._cf_chl_opt.cOgUQuery = location.search === '' && location.href.slice(0, location.href.length - window._cf_chl_opt.cOgUHash.length).indexOf('?') !== -1 ? '?' : location.search;if (window.history && window.history.replaceState) {var ogU = location.pathname + window._cf_chl_opt.cOgUQuery + window._cf_chl_opt.cOgUHash;history.replaceState(null, null, \"\\/?page=1&__cf_chl_rt_tk=8izadaBkbmAym_FWzQaK1IgP5ZUl_EKkTGoAPc_k.AY-1745563308-1.0.1.1-WPmVGiUwrC8fsx3VbqFNPGtXLTQ2UeISM0IB1BcA9yQ\" + window._cf_chl_opt.cOgUHash);cpo.onload = function() {history.replaceState(null, null, ogU);}}document.getElementsByTagName('head')[0].appendChild(cpo);}());\n",
      "  </script>\n",
      " </body>\n",
      "</html>\n",
      "\n"
     ]
    }
   ],
   "source": [
    "print(soup.prettify())"
   ]
  },
  {
   "cell_type": "code",
   "execution_count": null,
   "id": "7f2aff99-9b60-47a8-a854-9c41a0672511",
   "metadata": {},
   "outputs": [],
   "source": []
  },
  {
   "cell_type": "code",
   "execution_count": null,
   "id": "c063e3d6-8e9c-4dc8-b0bf-f0aba300d3dd",
   "metadata": {},
   "outputs": [],
   "source": []
  }
 ],
 "metadata": {
  "kernelspec": {
   "display_name": "Python 3 (ipykernel)",
   "language": "python",
   "name": "python3"
  },
  "language_info": {
   "codemirror_mode": {
    "name": "ipython",
    "version": 3
   },
   "file_extension": ".py",
   "mimetype": "text/x-python",
   "name": "python",
   "nbconvert_exporter": "python",
   "pygments_lexer": "ipython3",
   "version": "3.12.2"
  }
 },
 "nbformat": 4,
 "nbformat_minor": 5
}
